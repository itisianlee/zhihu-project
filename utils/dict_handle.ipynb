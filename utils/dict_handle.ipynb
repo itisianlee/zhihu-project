{
 "cells": [
  {
   "cell_type": "code",
   "execution_count": 2,
   "metadata": {
    "collapsed": true
   },
   "outputs": [],
   "source": [
    "import numpy as np\n",
    "import os\n",
    "import pandas as pd\n",
    "import math\n",
    "from six.moves import xrange\n",
    "import pickle"
   ]
  },
  {
   "cell_type": "code",
   "execution_count": 3,
   "metadata": {
    "collapsed": false
   },
   "outputs": [],
   "source": [
    "all_reader = pd.DataFrame(columns=[0,1,2,3,4])\n",
    "for i in range(9):\n",
    "    train_set_path = './ieee_zhihu_cup/all_info_block_%d.txt' % i\n",
    "    reader = pd.read_table(train_set_path, sep='\\t', header=None)\n",
    "    all_reader = pd.concat([all_reader,reader], axis=0)"
   ]
  },
  {
   "cell_type": "code",
   "execution_count": 20,
   "metadata": {
    "collapsed": false
   },
   "outputs": [],
   "source": [
    "all_reader.fillna('',inplace=True)"
   ]
  },
  {
   "cell_type": "code",
   "execution_count": 21,
   "metadata": {
    "collapsed": false
   },
   "outputs": [],
   "source": [
    "char_dict = {}\n",
    "count = 1\n",
    "for i in xrange(all_reader.shape[0]):\n",
    "    temp1 = all_reader.iloc[i][0].split(',')\n",
    "    temp2 = all_reader.iloc[i][2].split(',')\n",
    "    temp = temp1 + temp2\n",
    "    for c in temp:\n",
    "        if c != '':\n",
    "            if c not in char_dict:\n",
    "                char_dict[c] = count\n",
    "                count += 1                 "
   ]
  },
  {
   "cell_type": "code",
   "execution_count": 28,
   "metadata": {
    "collapsed": true
   },
   "outputs": [],
   "source": [
    "word_dict = {}\n",
    "count = 1\n",
    "for i in xrange(all_reader.shape[0]):\n",
    "    temp1 = all_reader.iloc[i][1].split(',')\n",
    "    temp2 = all_reader.iloc[i][3].split(',')\n",
    "    temp = temp1 + temp2\n",
    "    for w in temp:\n",
    "        if w != '':\n",
    "            if w not in word_dict:\n",
    "                word_dict[w] = count\n",
    "                count += 1      "
   ]
  },
  {
   "cell_type": "code",
   "execution_count": 30,
   "metadata": {
    "collapsed": false
   },
   "outputs": [
    {
     "data": {
      "text/plain": [
       "547833"
      ]
     },
     "execution_count": 30,
     "metadata": {},
     "output_type": "execute_result"
    }
   ],
   "source": [
    "count"
   ]
  },
  {
   "cell_type": "code",
   "execution_count": 26,
   "metadata": {
    "collapsed": true
   },
   "outputs": [],
   "source": [
    "pickle.dump(char_dict, open('./ieee_zhihu_cup/char_dict', 'w'))"
   ]
  },
  {
   "cell_type": "code",
   "execution_count": 31,
   "metadata": {
    "collapsed": true
   },
   "outputs": [],
   "source": [
    "pickle.dump(word_dict, open('./ieee_zhihu_cup/word_dict', 'w'))"
   ]
  },
  {
   "cell_type": "code",
   "execution_count": 3,
   "metadata": {
    "collapsed": false
   },
   "outputs": [],
   "source": [
    "vocab = pickle.load(open('./ieee_zhihu_cup/char_dict' ,'r'))"
   ]
  },
  {
   "cell_type": "code",
   "execution_count": 4,
   "metadata": {
    "collapsed": false
   },
   "outputs": [
    {
     "data": {
      "text/plain": [
       "12750"
      ]
     },
     "execution_count": 4,
     "metadata": {},
     "output_type": "execute_result"
    }
   ],
   "source": [
    "len(vocab)"
   ]
  },
  {
   "cell_type": "code",
   "execution_count": null,
   "metadata": {
    "collapsed": true
   },
   "outputs": [],
   "source": []
  }
 ],
 "metadata": {
  "kernelspec": {
   "display_name": "Python 2",
   "language": "python",
   "name": "python2"
  },
  "language_info": {
   "codemirror_mode": {
    "name": "ipython",
    "version": 2
   },
   "file_extension": ".py",
   "mimetype": "text/x-python",
   "name": "python",
   "nbconvert_exporter": "python",
   "pygments_lexer": "ipython2",
   "version": "2.7.13"
  }
 },
 "nbformat": 4,
 "nbformat_minor": 2
}
