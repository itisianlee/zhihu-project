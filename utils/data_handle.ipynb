{
 "cells": [
  {
   "cell_type": "code",
   "execution_count": 1,
   "metadata": {
    "collapsed": true
   },
   "outputs": [],
   "source": [
    "import pandas as pd\n",
    "from tqdm import tqdm # pip install tqdm\n",
    "from six.moves import xrange"
   ]
  },
  {
   "cell_type": "code",
   "execution_count": 2,
   "metadata": {
    "collapsed": true
   },
   "outputs": [],
   "source": [
    "reader = pd.read_table('./ieee_zhihu_cup/question_train_set.txt',sep='\\t',header=None)"
   ]
  },
  {
   "cell_type": "code",
   "execution_count": 3,
   "metadata": {
    "collapsed": true
   },
   "outputs": [],
   "source": [
    "# 导入question_topic_eval_set\n",
    "topic_reader = pd.read_table('./ieee_zhihu_cup/question_topic_train_set.txt',sep='\\t',header=None)"
   ]
  },
  {
   "cell_type": "code",
   "execution_count": 13,
   "metadata": {
    "collapsed": true
   },
   "outputs": [],
   "source": [
    "# 合并title 的词语编号序列和话题 id\n",
    "data_topic = pd.concat([reader.ix[:,[1,2,3,4]], topic_reader.ix[:,1]], axis=1, ignore_index=True)"
   ]
  },
  {
   "cell_type": "code",
   "execution_count": 7,
   "metadata": {
    "collapsed": false
   },
   "outputs": [],
   "source": [
    "label_reader = pd.read_table('./ieee_zhihu_cup/topic_info.txt',sep='\\t',header=None)"
   ]
  },
  {
   "cell_type": "code",
   "execution_count": 8,
   "metadata": {
    "collapsed": true
   },
   "outputs": [],
   "source": [
    "# 把标签转为0-1998的编号\n",
    "labels = list(label_reader.iloc[:,0])\n",
    "my_labels = []\n",
    "for label in labels:\n",
    "    my_labels.append(label)\n",
    "    \n",
    "# 建立topic字典\n",
    "topic_dict = {}\n",
    "for i,label in enumerate(my_labels):\n",
    "    topic_dict[label] = i"
   ]
  },
  {
   "cell_type": "code",
   "execution_count": 16,
   "metadata": {
    "collapsed": true
   },
   "outputs": [],
   "source": [
    "def transform(x):\n",
    "    temp_topic = x.split(',')\n",
    "    new_label = ''\n",
    "    for topic in temp_topic:\n",
    "        label_num = topic_dict[int(topic)]\n",
    "        new_label = new_label + str(label_num) + ','\n",
    "    return new_label[:-1]"
   ]
  },
  {
   "cell_type": "code",
   "execution_count": 17,
   "metadata": {
    "collapsed": false
   },
   "outputs": [],
   "source": [
    "data_topic[4] = data_topic.iloc[:,4].map(lambda x: transform(x))"
   ]
  },
  {
   "cell_type": "code",
   "execution_count": 19,
   "metadata": {
    "collapsed": false
   },
   "outputs": [],
   "source": [
    "# 保存处理过后的文件\n",
    "data_topic.to_csv(\"./ieee_zhihu_cup/all_info_data_topic.txt\", header=None, index=None, sep='\\t')\n",
    "\n",
    "# 切分成10块保存\n",
    "for i in xrange(10):\n",
    "    data_topic_filename = './ieee_zhihu_cup/all_info_block_' + str(i) + '.txt'\n",
    "    if (i+1)*300000 < data_topic.shape[0]:\n",
    "        data_topic.iloc[i*300000:(i+1)*300000].to_csv(\n",
    "            data_topic_filename, header=None, index=None, sep='\\t')\n",
    "    else:\n",
    "        data_topic.iloc[i*300000:data_topic.shape[0]].to_csv(\n",
    "            data_topic_filename, header=None, index=None, sep='\\t')"
   ]
  },
  {
   "cell_type": "code",
   "execution_count": null,
   "metadata": {
    "collapsed": true
   },
   "outputs": [],
   "source": []
  }
 ],
 "metadata": {
  "kernelspec": {
   "display_name": "Python 2",
   "language": "python",
   "name": "python2"
  },
  "language_info": {
   "codemirror_mode": {
    "name": "ipython",
    "version": 2
   },
   "file_extension": ".py",
   "mimetype": "text/x-python",
   "name": "python",
   "nbconvert_exporter": "python",
   "pygments_lexer": "ipython2",
   "version": "2.7.13"
  }
 },
 "nbformat": 4,
 "nbformat_minor": 2
}
